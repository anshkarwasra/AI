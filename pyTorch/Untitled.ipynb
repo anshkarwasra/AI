{
 "cells": [
  {
   "cell_type": "code",
   "execution_count": null,
   "id": "65b42d6a-0fcf-4745-a9f8-32ce50d87a94",
   "metadata": {},
   "outputs": [],
   "source": [
    "import torch\n",
    "from torch import nn\n",
    "from trochvision import datasets\n",
    "from trochvision.transforms import ToTensor\n"
   ]
  }
 ],
 "metadata": {
  "kernelspec": {
   "display_name": "Python 3 (ipykernel)",
   "language": "python",
   "name": "python3"
  },
  "language_info": {
   "codemirror_mode": {
    "name": "ipython",
    "version": 3
   },
   "file_extension": ".py",
   "mimetype": "text/x-python",
   "name": "python",
   "nbconvert_exporter": "python",
   "pygments_lexer": "ipython3",
   "version": "3.12.4"
  }
 },
 "nbformat": 4,
 "nbformat_minor": 5
}
