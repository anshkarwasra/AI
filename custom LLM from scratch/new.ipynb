{
 "cells": [
  {
   "cell_type": "code",
   "execution_count": 1,
   "id": "ecb41e39-2e90-4c9f-bf3a-adea51455347",
   "metadata": {},
   "outputs": [
    {
     "data": {
      "text/plain": [
       "92"
      ]
     },
     "execution_count": 1,
     "metadata": {},
     "output_type": "execute_result"
    }
   ],
   "source": [
    "with open(\"wizard_of_oz.txt\",\"r\",encoding=\"utf-8\") as f:\n",
    "    text = f.read()\n",
    "chars = sorted(set(text))\n",
    "len(chars)"
   ]
  },
  {
   "cell_type": "code",
   "execution_count": 2,
   "id": "9d6e316c-e3f3-4fa2-ad1a-a1c9cb409971",
   "metadata": {},
   "outputs": [
    {
     "data": {
      "text/plain": [
       "'cpu'"
      ]
     },
     "execution_count": 2,
     "metadata": {},
     "output_type": "execute_result"
    }
   ],
   "source": [
    "import torch\n",
    "device = 'cuda' if torch.cuda.is_available() else 'cpu'\n",
    "string_to_int = {ch:i for i,ch in enumerate(chars) }\n",
    "int_to_string = {i:ch for i,ch in enumerate(chars) }\n",
    "encode = lambda s: [string_to_int[c] for c in s]\n",
    "decode = lambda s: ''.join([int_to_string[c] for c in s])\n",
    "\n",
    "data = torch.tensor(encode(text),dtype=torch.long)\n",
    "block_size = 8\n",
    "batch_size = 4\n",
    "device"
   ]
  },
  {
   "cell_type": "code",
   "execution_count": 3,
   "id": "92535617-774e-4f80-90ee-b110a507570c",
   "metadata": {},
   "outputs": [
    {
     "data": {
      "text/plain": [
       "(tensor([91, 48, 65,  ...,  1, 72, 71]),\n",
       " tensor([ 1, 77, 65,  ...,  0,  0,  0]))"
      ]
     },
     "execution_count": 3,
     "metadata": {},
     "output_type": "execute_result"
    }
   ],
   "source": [
    "n = int(0.8 *len(data))\n",
    "train_data = data[:n]\n",
    "test_data = data[n:]\n",
    "train_data,test_data"
   ]
  },
  {
   "cell_type": "code",
   "execution_count": 4,
   "id": "fd098449-ebfe-476b-a4a0-41afb6b3ed4d",
   "metadata": {},
   "outputs": [
    {
     "name": "stdout",
     "output_type": "stream",
     "text": [
      "when context is:tensor([91]) target is: 48\n",
      "when context is:tensor([91, 48]) target is: 65\n",
      "when context is:tensor([91, 48, 65]) target is: 62\n",
      "when context is:tensor([91, 48, 65, 62]) target is: 1\n",
      "when context is:tensor([91, 48, 65, 62,  1]) target is: 44\n",
      "when context is:tensor([91, 48, 65, 62,  1, 44]) target is: 75\n",
      "when context is:tensor([91, 48, 65, 62,  1, 44, 75]) target is: 72\n",
      "when context is:tensor([91, 48, 65, 62,  1, 44, 75, 72]) target is: 67\n"
     ]
    }
   ],
   "source": [
    "\n",
    "x = train_data[:block_size]\n",
    "y = train_data[1:block_size+1]\n",
    "\n",
    "for t in range(block_size):\n",
    "    context = x[:t+1]\n",
    "    target = y[t]\n",
    "    print(f\"when context is:{context} target is: {target}\")"
   ]
  },
  {
   "cell_type": "code",
   "execution_count": null,
   "id": "c6ac4212-1fc7-46b5-8554-aa219884710c",
   "metadata": {},
   "outputs": [],
   "source": []
  }
 ],
 "metadata": {
  "kernelspec": {
   "display_name": "CUDA",
   "language": "python",
   "name": "cuda"
  },
  "language_info": {
   "codemirror_mode": {
    "name": "ipython",
    "version": 3
   },
   "file_extension": ".py",
   "mimetype": "text/x-python",
   "name": "python",
   "nbconvert_exporter": "python",
   "pygments_lexer": "ipython3",
   "version": "3.12.4"
  }
 },
 "nbformat": 4,
 "nbformat_minor": 5
}
